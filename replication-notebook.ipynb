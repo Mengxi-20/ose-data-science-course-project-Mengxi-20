{
 "cells": [
  {
   "cell_type": "markdown",
   "metadata": {},
   "source": [
    "--- \n",
    "Project for the course in Microeconometrics | Summer 2021, M.Sc. Economics, Bonn University | [Mengxi Wang](https://github.com/Mengxi-20)\n",
    "\n",
    "# Replication of Chen, T., Kung, J. K. S., & Ma, C. (2020) <a class=\"tocSkip\">   \n",
    "---"
   ]
  },
  {
   "cell_type": "markdown",
   "metadata": {},
   "source": [
    "This notebook contains my replication of the results from the following paper:\n",
    "\n",
    "> Chen, T., Kung, J. K. S., & Ma, C. (2020). Long Live Keju! The Persistent Effects of China’s Civil Examination System. The Economic Journal, 130(631), 2030–2064. \n",
    "\n",
    "##### Downloading and viewing this notebook:\n",
    "\n",
    "\n",
    "* The best way to view this notebook is by downloading it and the repository it is located in from [GitHub](https://github.com/OpenSourceEconomics/ose-data-science-course-project-Mengxi-20). Other viewing options like _MyBinder_ or _NBViewer_ may have issues with displaying images or coloring of certain parts (missing images can be viewed in the folder [files](https://github.com/OpenSourceEconomics/ose-data-science-course-project-Mengxi-20) on GitHub).\n",
    "\n",
    "* The original paper, as well as the data and code provided by the authors can be accessed [here](https://academic.oup.com/ej/article/130/631/2030/5819954).\n",
    "\n",
    "\n",
    "##### Information about replication and individual contributions:\n",
    "\n",
    "* "
   ]
  },
  {
   "cell_type": "markdown",
   "metadata": {},
   "source": [
    "<h1>Table of Contents<span class=\"tocSkip\"></span></h1>"
   ]
  },
  {
   "cell_type": "markdown",
   "metadata": {},
   "source": [
    "<div class=\"toc\"><ul class=\"toc-item\"><li><span><a href=\"#1.-Introduction\" data-toc-modified-id=\"1.-Introduction-1\">1. Introduction</a></span></li><li><span><a href=\"#2.-Identification\" data-toc-modified-id=\"2.-Identification-2\">2. Identification</a></span></li><li><span><a href=\"#3.-Empirical-Setup\" data-toc-modified-id=\"3.-Empirical-Setup-3\">3. Empirical Setup</a></span></li><li><span><a href=\"#4.-Replication-of-Chen-et-al.-(2020)\" data-toc-modified-id=\"4.-Replication-of-Chen-et-al.-(2020)-4\">4. Replication of Chen et al. (2020)</a></span><ul class=\"toc-item\"><li><span><a href=\"#4.1.-Data-&amp;-Descriptive-Statistics\" data-toc-modified-id=\"4.1.-Data-&amp;-Descriptive-Statistics-4.1\">4.1. Data &amp; Descriptive Statistics</a></span></li><li><span><a href=\"#4.2.-Results\" data-toc-modified-id=\"4.2.-Results-4.2\">4.2. Results</a></span><ul class=\"toc-item\"><li><span><a href=\"#4.2.1.-Tests-of-the-Validity-of-the-RD-Approach\" data-toc-modified-id=\"4.2.1.-Tests-of-the-Validity-of-the-RD-Approach-4.2.1\">4.2.1. Tests of the Validity of the RD Approach</a></span></li><li><span><a href=\"#i.--Extension:-Visual-Validity-Check\" data-toc-modified-id=\"i.--Extension:-Visual-Validity-Check-4.2.2\">i.  Extension: Visual Validity Check</a></span></li><li><span><a href=\"#ii.-Advanced-Validity-Check\" data-toc-modified-id=\"ii.-Advanced-Validity-Check-4.2.3\">ii. Advanced Validity Check</a></span></li><li><span><a href=\"#4.2.2.-First-Year-GPAs-and-Academic-Probation\" data-toc-modified-id=\"4.2.2.-First-Year-GPAs-and-Academic-Probation-4.2.4\">4.2.2. First Year GPAs and Academic Probation</a></span></li><li><span><a href=\"#4.2.3.-The-Immediate-Response-to-Academic-Probation\" data-toc-modified-id=\"4.2.3.-The-Immediate-Response-to-Academic-Probation-5.2.5\">4.2.3. The Immediate Response to Academic Probation</a></span></li><li><span><a href=\"#4.2.4.-The-Impact-onSubsequent-Performance\" data-toc-modified-id=\"4.2.4.-The-Impact-onSubsequent-Performance-4.2.6\">4.2.4. The Impact onSubsequent Performance</a></span></li><li><span><a href=\"#i.-Main-Results-for-Impact-on-GPA-&amp;-Probability-of-Placing-Above-Cutoff-in-the-Next-Term\" data-toc-modified-id=\"i.-Main-Results-for-Impact-on-GPA-&amp;-Probability-of-Placing-Above-Cutoff-in-the-Next-Term-4.2.7\">i. Main Results for Impact on GPA &amp; Probability of Placing Above Cutoff in the Next Term</a></span></li><li><span><a href=\"#ii.-Formal-Bound-Analysis-on-Subsequent-GPA-(partial-extension)\" data-toc-modified-id=\"ii.-Formal-Bound-Analysis-on-Subsequent-GPA-(partial-extension)-4.2.8\">ii. Formal Bound Analysis on Subsequent GPA (partial extension)</a></span></li><li><span><a href=\"#4.2.5.-The-Impacts-on-Graduation\" data-toc-modified-id=\"4.2.5.-The-Impacts-on-Graduation-4.2.9\">4.2.5. The Impacts on Graduation</a></span></li></ul></li></ul></li><li><span><a href=\"#6.-Extension:-Robustness-Checks\" data-toc-modified-id=\"5.-Extension:-Robustness-Checks-5\">5. Extension: Robustness Checks</a></span><ul class=\"toc-item\"><li><span><a href=\"#5.1.--A-Closer-Look-at-Students'-Subsequent-Performance.\" data-toc-modified-id=\"5.1.--A-Closer-Look-at-Students'-Subsequent-Performance.-5.1\">5.1.  A Closer Look at Students' Subsequent Performance.</a></span><ul class=\"toc-item\"><li><span><a href=\"#5.1.1.-Subsequent-Performance-and-Total-Credits-in-Year-2\" data-toc-modified-id=\"5.1.1.-Subsequent-Performance-and-Total-Credits-in-Year-2-5.1.1\">5.1.1. Subsequent Performance and Total Credits in Year 2</a></span></li><li><span><a href=\"#5.1.2.-Subsequent-Cumulative-Grade-Point-Average-(CGPA)\" data-toc-modified-id=\"5.1.2.-Subsequent-Cumulative-Grade-Point-Average-(CGPA)-5.1.2\">5.1.2. Subsequent Cumulative Grade Point Average (CGPA)</a></span></li></ul></li><li><span><a href=\"#5.2.-Bandwidth-Sensitivity\" data-toc-modified-id=\"5.2.-Bandwidth-Sensitivity-5.2\">5.2. Bandwidth Sensitivity</a></span></li></ul></li><li><span><a href=\"#6.-Conclusion\" data-toc-modified-id=\"6.-Conclusion-6\">6. Conclusion</a></span></li><li><span><a href=\"#7.-References\" data-toc-modified-id=\"7.-References-7\">7. References</a></span></li></ul></div>"
   ]
  },
  {
   "cell_type": "code",
   "execution_count": 33,
   "metadata": {},
   "outputs": [
    {
     "name": "stdout",
     "output_type": "stream",
     "text": [
      "Requirement already satisfied: linearmodels in /Users/mxx/opt/anaconda3/lib/python3.7/site-packages (4.24)\n",
      "Requirement already satisfied: Cython>=0.29.21 in /Users/mxx/opt/anaconda3/lib/python3.7/site-packages (from linearmodels) (0.29.23)\n",
      "Requirement already satisfied: statsmodels>=0.11 in /Users/mxx/opt/anaconda3/lib/python3.7/site-packages (from linearmodels) (0.12.2)\n",
      "Requirement already satisfied: mypy-extensions>=0.4 in /Users/mxx/opt/anaconda3/lib/python3.7/site-packages (from linearmodels) (0.4.3)\n",
      "Requirement already satisfied: patsy in /Users/mxx/opt/anaconda3/lib/python3.7/site-packages (from linearmodels) (0.5.1)\n",
      "Requirement already satisfied: scipy>=1.2 in /Users/mxx/opt/anaconda3/lib/python3.7/site-packages (from linearmodels) (1.3.1)\n",
      "Requirement already satisfied: pyhdfe>=0.1 in /Users/mxx/opt/anaconda3/lib/python3.7/site-packages (from linearmodels) (0.1.0)\n",
      "Requirement already satisfied: property-cached>=1.6.3 in /Users/mxx/opt/anaconda3/lib/python3.7/site-packages (from linearmodels) (1.6.4)\n",
      "Requirement already satisfied: pandas>=0.24 in /Users/mxx/opt/anaconda3/lib/python3.7/site-packages (from linearmodels) (1.3.0)\n",
      "Requirement already satisfied: numpy>=1.16 in /Users/mxx/opt/anaconda3/lib/python3.7/site-packages (from linearmodels) (1.21.0)\n",
      "Requirement already satisfied: six in /Users/mxx/opt/anaconda3/lib/python3.7/site-packages (from patsy->linearmodels) (1.12.0)\n",
      "Requirement already satisfied: pytz>=2017.3 in /Users/mxx/opt/anaconda3/lib/python3.7/site-packages (from pandas>=0.24->linearmodels) (2019.3)\n",
      "Requirement already satisfied: python-dateutil>=2.7.3 in /Users/mxx/opt/anaconda3/lib/python3.7/site-packages (from pandas>=0.24->linearmodels) (2.8.0)\n",
      "Requirement already satisfied: graphviz in /Users/mxx/opt/anaconda3/lib/python3.7/site-packages (0.16)\n",
      "Requirement already satisfied: stargazer in /Users/mxx/opt/anaconda3/lib/python3.7/site-packages (0.0.5)\n"
     ]
    }
   ],
   "source": [
    "%matplotlib inline\n",
    "!pip install linearmodels\n",
    "!pip install graphviz\n",
    "!pip install stargazer\n",
    "import sys\n",
    "import numpy as np\n",
    "import pandas as pd\n",
    "import pandas.io.formats.style\n",
    "import seaborn as sns\n",
    "import statsmodels.api as sm\n",
    "import matplotlib.pyplot as plt\n",
    "import statsmodels.formula.api as smf\n",
    "import statsmodels.api as sm_api"
   ]
  },
  {
   "cell_type": "code",
   "execution_count": 34,
   "metadata": {},
   "outputs": [],
   "source": [
    "from linearmodels.iv import IV2SLS\n",
    "from linearmodels import IV2SLS, IVLIML, IVGMM, IVGMMCUE, PanelOLS\n",
    "from IPython.display import HTML, Image\n",
    "from prettytable import PrettyTable\n",
    "from stargazer.stargazer import Stargazer\n",
    "from statsmodels.iolib.summary2 import summary_col\n",
    "from linearmodels.panel import compare"
   ]
  },
  {
   "cell_type": "markdown",
   "metadata": {},
   "source": [
    "---\n",
    "# 1. Introduction \n",
    "---"
   ]
  },
  {
   "cell_type": "markdown",
   "metadata": {},
   "source": [
    "Chen et. al. (2020) examine the effects of China’s civil examination system (keju), a long-lived institution, on human capital outcome todays. Becoming dominant from Song dynasty (c. 960–1276), Keju is the earliest elite selection system in the world, which aims to recruit talents to serve in the bureaucracy. Since Jinshi is the highest honor and qualification in this civil exam, passing the highest level of the exam and receiving the honor of Jinshi mean generous pecuniary rewards and a promising future. Over time, the civil examination system formed a distinct group of local elites with deep respect for learning and academic achievements. This cultural characteristic still existed for a long time even after the abolition of the imperial examination system.\n",
    "\n",
    "To verify the causal relationship between keju and contemporary human capital outcome, Chen et. al. (2020) introduce an **instrumental variable (IV)** - Distance to the Printing Ingredients (Pine and Bamboo) to tackle the issues of omitted variables bias. The IV is motivated by the idea that to become a winner in the Keju exam, apart from the limited textbooks, the candidates still need a large cluster of reference books, which explain nuances of texts and teach tricks of writing essay. That is why printing ingredients play such an important role in the Keju exam. At the end, Chen et. al. (2020) present the causality and compare OLS and TSLS using different control variables.\n",
    "\n",
    "This notebook is structured as follows: In the next section the identification strategy is analyzed, then the empirical strategy that the authors use for estimation is briefly discussed. The fourth section and the fifth section, as the core of this notebook, show the replication of main results in the paper and try to solve possible problems with weak instruments, xxx and xxx. The sixth section offers some concluding remarks."
   ]
  },
  {
   "cell_type": "markdown",
   "metadata": {},
   "source": [
    "---\n",
    "# 2. Identification\n",
    "---"
   ]
  },
  {
   "cell_type": "markdown",
   "metadata": {},
   "source": [
    "Chen et. al. (2020) in their paper aim to verify whether the relationship between Keju and contemporary human capital outcome is causal. However, performance i.e. Jinshi density of various prefectures may be related to many complicated factors. So the estimates of contemporary human capital outcomes to Keju are likely to suffer from omitted variable — variables that are simultaneously associated with both historical jinshi density and years of schooling today. Unobserved factors, like natural or genetic endowments, may be associated with prefectures that had produced more jinshi. Natural or genetic endowments are hard to measure and therefore it is not possible to control for them, when estimating the contemporary human capital outcomes to Keju. Thus, an omitted variable bias might occur. \n",
    "\n",
    "Chen’s approach to avoid bias is now to employ an instrumental variable approach which is based on the accuracy of the causal graph below."
   ]
  },
  {
   "cell_type": "code",
   "execution_count": 35,
   "metadata": {},
   "outputs": [
    {
     "data": {
      "image/png": "[encoded data removed]",
      "text/plain": [
       "<IPython.core.display.Image object>"
      ]
     },
     "execution_count": 35,
     "metadata": {},
     "output_type": "execute_result"
    }
   ],
   "source": [
    "Image(\"/Users/mengxi/Documents/GitHub/ose-data-science-course-project-Mengxi-20/files/causal graph.png\")"
   ]
  },
  {
   "cell_type": "markdown",
   "metadata": {},
   "source": [
    "Chen et. al. (2020) examine the effects of China’s civil examination system using data from the Ming-Qing period (c. 1368–1905). In such a context, the printing technology in China relied mainly on pine and bamboo for producing ink and paper. Typically, the printing centers were located near to the pine and bamboo habitats to reduce the transport costs. Besides, for geographical reasons, the transportation of raw materials i.e. pine and bamboo products was mostly finished via waterways. \n",
    "\n",
    "Therefore, an instrumental variable is constructed using a prefecture’s shortest river distance to its nearest sites of pine and bamboo — the two key ingredients required for producing ink and paper in woodblock printing. The following is the logic that why this instrumental variable is feasible and reasonable. \n",
    "\n",
    "* To some extent, the performance of various Chinese prefectures in the Keju exam is closely related to the convenience of printing and obtaining books, not only textbooks but also reference books. \n",
    "\n",
    "* The main printing centers were located in close to the producing areas of pine and bamboo. \n",
    "\n",
    "* The raw materials needed for printing were mainly transported by water via the main river branches. \n",
    "\n",
    "Since the geographic distributions of pine and bamboo forests are random, the exogeneity assumption of the instrumental variable holds. "
   ]
  },
  {
   "cell_type": "markdown",
   "metadata": {},
   "source": [
    "If instead of a prefecture’s shortest river distance to its nearest sites of pine and bamboo, the shortest distance to printing centers is directly employed as the instrumental variable, there might be problems of exclusion restriction, because the locations of printing centers were not exogenously determined. For example, they were more likely to be located in economically prosperous and densely populated areas. \n"
   ]
  },
  {
   "cell_type": "markdown",
   "metadata": {},
   "source": [
    "---\n",
    "# 3. Empirical Setup\n",
    "---"
   ]
  },
  {
   "cell_type": "markdown",
   "metadata": {},
   "source": [
    "The authors examined the impact of keju on contemporary human capital outcomes. For the regression analysis Chen et. al. (2020) employ the following model to do the estimation:\n",
    "\n",
    "\\begin{equation}\n",
    "y_{i} = \\beta keju_{i} + \\gamma_{1} X^{c}_{i} + \\gamma_{2} X^{h}_{i} + \\alpha_{p} + \\epsilon_{i},\n",
    "\\end{equation}\n",
    "\n",
    "\n",
    "* $i$ indexes a prefecture,\n",
    "* $y_{i}$ stands for the contemporary human capital measure constructed from the 2010 population census,\n",
    "* $\\alpha_{p}$ denotes province fixed effects,\n",
    "* $\\epsilon_{i}$ is the error term,\n",
    "* $keju_{i}$ is a measure of the degree of success in civil exams of prefecture i in the Ming and Qing dynasties, specifically measured by the total number of candidates who obtained the jinshi degree in the keju exam in that prefecture during the entire Ming-Qing period (c. 1371–1905),\n",
    "* $X^{c}_{i}$ denotes a vector of baseline control variables, which are likely to impact upon the years of schooling today, including night-time lights and key features of geography,\n",
    "* $X^{h}_{i}$ denotes a vector of historical variables, which are likely correlated with jinshi density while also bearing upon contemporary human capital outcomes, including historical economic prosperity and regional migration.\n",
    "\n",
    "Key variables in the data sets:\n"
   ]
  },
  {
   "cell_type": "code",
   "execution_count": 36,
   "metadata": {},
   "outputs": [
    {
     "name": "stdout",
     "output_type": "stream",
     "text": [
      "lneduyear       Average years of schooling (logged)\n",
      "lnjinshipop     Jinshi density (logged)\n",
      "lnnspop         Share of population with no education (×100, logged)\n",
      "lnmppop         Share of population with elementary and secondary school education (×100, logged)\n",
      "lnhighpop       Share of population with high school education (×100, logged)\n",
      "lnunipop        Share of population with university and above (×100, logged)\n",
      "lnnightlight    Night-time lights in 2010 (logged)\n",
      "lncoastdist     Distance to coast (1,000 km, logged)\n",
      "tri             Terrain ruggedness\n",
      "suitability     Agricultural suitability\n",
      "lnpopdensity    Population density (logged)\n",
      "urbanrates      Urbanisation rates\n",
      "provid          Province fixed effects\n"
     ]
    }
   ],
   "source": [
    "file_path = '/Users/mengxi/Documents/GitHub/ose-data-science-course-project-Mengxi-20/files/Abb_1.txt'\n",
    "with open(file_path) as file_abb_1:\n",
    "    data = file_abb_1.read()\n",
    "print(data)"
   ]
  },
  {
   "cell_type": "markdown",
   "metadata": {},
   "source": [
    "---\n",
    "# 4. Replication of Ting Chen, James Kai-sing Kung and Chicheng Ma (2020)\n",
    "---"
   ]
  },
  {
   "cell_type": "markdown",
   "metadata": {},
   "source": [
    "## 4.1. Data & Descriptive Statistics\n",
    "\n",
    "\n",
    "To obtain the data of key explanatory variable — $keju_{i}$, Chen et. al. (2020) filtered data from Official Directory of Ming-Qing Civil Exam Graduates. After sorting out the jinshi degrees obtained in the 242 civil exams that took place between 1371 and 1904, the authors normalized the number of jinshi by the prefecture population (in units of 10,000).\n",
    "\n",
    "Furthermore, in order to reduce skewness, they raised the number of jinshi density to the natural log. At the end, the authors add 1 to the number of jinshi, i.e., ln(1 + jinshi/population), in case of losing observations with a value of zero. The processed data named jinshi density are used to measure the historical success in China’s civil exam (Keju).\n",
    "\n",
    "Besides, the data of dependent variable — $y_{i}$, come from the 2010 Chinese Family Panel Survey (CFPS). “Average years of schooling\" in the census was selected and raised to the natural log to measure the contemporary human capital. \n",
    "\n",
    "As for control variables $X^{c}_{i}$ and $X^{h}_{i}$ , they are constructed as follows. \n",
    "\n",
    "The vector of baseline control variables — $X^{c}_{i}$:"
   ]
  },
  {
   "cell_type": "markdown",
   "metadata": {},
   "source": [
    "| Baseline controls | Construction | Comments | \n",
    "| :--- | :--- | :--- |\n",
    "| Night-time lights | the average satellite light density at night time in 2010 at the prefectural level | Measuring the contemporary economic prosperity | \n",
    "| geography 1: distance to coast | the distance between a prefecture’s centroid to the closest point on the coast | prefectures located on the coast were likely early beneficiaries of Western technology, knowledge and trade | \n",
    "| geography 2: terrain ruggedness | the difference in elevation between adjacent cell grids using data provided by the United States Geographic Service (USGS) | terrain ruggedness can have a profoundly lasting effect on long-term economic development either through its direct impact or through its interaction with key historical events | \n"
   ]
  },
  {
   "cell_type": "markdown",
   "metadata": {},
   "source": [
    "The vector of historical variables — $X^{h}_{i}$:"
   ]
  },
  {
   "cell_type": "markdown",
   "metadata": {},
   "source": [
    "| Historical controls | Construction | Comments | \n",
    "| :--- | :--- | :--- |\n",
    "| historical economic prosperity 1: population density | the average population density between 1393 and 1910 | / | \n",
    "| historical economic prosperity 2: urbanisation | the average share of the urban population between 1393 and 1920 | / | \n",
    "| historical economic prosperity 3: agricultural suitability | yields of crops suitable for cultivation after 1500 based on the Caloric Suitability Indices (Galor and Ozak, 2016) | China was still predominantly an agricultural economy in the Ming-Qing period. | \n",
    "| Regional migration | the 1,370 jinshi (2.65%) whose birthplace was different from the place of examination are excluded from the analysis | migration may affect development if prefectures with a proven track record in civil exams attracted candidates to migrate to these places. | \n",
    "\n"
   ]
  },
  {
   "cell_type": "markdown",
   "metadata": {},
   "source": [
    "The following table shows the descriptive statistics of jinshi density, "
   ]
  },
  {
   "cell_type": "code",
   "execution_count": 37,
   "metadata": {},
   "outputs": [],
   "source": [
    "data = pd.read_csv('/Users/mengxi/Documents/GitHub/ose-data-science-course-project-Mengxi-20/data/census20_final.csv')\n",
    "data = pd.DataFrame(data)"
   ]
  },
  {
   "cell_type": "code",
   "execution_count": 38,
   "metadata": {},
   "outputs": [
    {
     "data": {
      "text/plain": [
       "'1.3.0'"
      ]
     },
     "execution_count": 38,
     "metadata": {},
     "output_type": "execute_result"
    }
   ],
   "source": [
    "pd.__version__"
   ]
  },
  {
   "cell_type": "code",
   "execution_count": 39,
   "metadata": {},
   "outputs": [
    {
     "data": {
      "text/html": [
       "<div>\n",
       "<style scoped>\n",
       "    .dataframe tbody tr th:only-of-type {\n",
       "        vertical-align: middle;\n",
       "    }\n",
       "\n",
       "    .dataframe tbody tr th {\n",
       "        vertical-align: top;\n",
       "    }\n",
       "\n",
       "    .dataframe thead th {\n",
       "        text-align: right;\n",
       "    }\n",
       "</style>\n",
       "<table border=\"1\" class=\"dataframe\">\n",
       "  <thead>\n",
       "    <tr style=\"text-align: right;\">\n",
       "      <th></th>\n",
       "      <th>provid</th>\n",
       "      <th>prefid</th>\n",
       "      <th>year</th>\n",
       "      <th>lneduyear</th>\n",
       "      <th>lnjinshipop</th>\n",
       "      <th>lnjinshipopm</th>\n",
       "      <th>lnnspop</th>\n",
       "      <th>lnmppop</th>\n",
       "      <th>lnhighpop</th>\n",
       "      <th>lnunipop</th>\n",
       "      <th>...</th>\n",
       "      <th>noise491</th>\n",
       "      <th>noise492</th>\n",
       "      <th>noise493</th>\n",
       "      <th>noise494</th>\n",
       "      <th>noise495</th>\n",
       "      <th>noise496</th>\n",
       "      <th>noise497</th>\n",
       "      <th>noise498</th>\n",
       "      <th>noise499</th>\n",
       "      <th>noise500</th>\n",
       "    </tr>\n",
       "  </thead>\n",
       "  <tbody>\n",
       "    <tr>\n",
       "      <th>count</th>\n",
       "      <td>274.000000</td>\n",
       "      <td>274.000000</td>\n",
       "      <td>274.0</td>\n",
       "      <td>274.000000</td>\n",
       "      <td>274.000000</td>\n",
       "      <td>274.000000</td>\n",
       "      <td>274.000000</td>\n",
       "      <td>274.000000</td>\n",
       "      <td>274.000000</td>\n",
       "      <td>274.000000</td>\n",
       "      <td>...</td>\n",
       "      <td>274.000000</td>\n",
       "      <td>274.000000</td>\n",
       "      <td>274.000000</td>\n",
       "      <td>274.000000</td>\n",
       "      <td>274.000000</td>\n",
       "      <td>274.000000</td>\n",
       "      <td>274.000000</td>\n",
       "      <td>274.000000</td>\n",
       "      <td>274.000000</td>\n",
       "      <td>274.000000</td>\n",
       "    </tr>\n",
       "    <tr>\n",
       "      <th>mean</th>\n",
       "      <td>40.572993</td>\n",
       "      <td>406766.058394</td>\n",
       "      <td>2010.0</td>\n",
       "      <td>2.160471</td>\n",
       "      <td>0.917486</td>\n",
       "      <td>0.678223</td>\n",
       "      <td>1.639050</td>\n",
       "      <td>4.267677</td>\n",
       "      <td>2.593947</td>\n",
       "      <td>0.878129</td>\n",
       "      <td>...</td>\n",
       "      <td>0.263004</td>\n",
       "      <td>0.229871</td>\n",
       "      <td>-0.231798</td>\n",
       "      <td>-0.181745</td>\n",
       "      <td>-0.350418</td>\n",
       "      <td>0.114853</td>\n",
       "      <td>0.164522</td>\n",
       "      <td>0.209750</td>\n",
       "      <td>-0.287392</td>\n",
       "      <td>-0.273478</td>\n",
       "    </tr>\n",
       "    <tr>\n",
       "      <th>std</th>\n",
       "      <td>13.293674</td>\n",
       "      <td>133168.485563</td>\n",
       "      <td>0.0</td>\n",
       "      <td>0.118061</td>\n",
       "      <td>0.701236</td>\n",
       "      <td>0.336513</td>\n",
       "      <td>0.587474</td>\n",
       "      <td>0.106720</td>\n",
       "      <td>0.315687</td>\n",
       "      <td>0.653332</td>\n",
       "      <td>...</td>\n",
       "      <td>1.072196</td>\n",
       "      <td>1.159484</td>\n",
       "      <td>1.056623</td>\n",
       "      <td>1.113320</td>\n",
       "      <td>1.070050</td>\n",
       "      <td>0.947882</td>\n",
       "      <td>1.083819</td>\n",
       "      <td>1.105535</td>\n",
       "      <td>1.117204</td>\n",
       "      <td>0.995672</td>\n",
       "    </tr>\n",
       "    <tr>\n",
       "      <th>min</th>\n",
       "      <td>11.000000</td>\n",
       "      <td>110000.000000</td>\n",
       "      <td>2010.0</td>\n",
       "      <td>1.726332</td>\n",
       "      <td>0.000000</td>\n",
       "      <td>0.000000</td>\n",
       "      <td>-0.301293</td>\n",
       "      <td>3.763713</td>\n",
       "      <td>1.645886</td>\n",
       "      <td>-0.954173</td>\n",
       "      <td>...</td>\n",
       "      <td>-2.195120</td>\n",
       "      <td>-2.721890</td>\n",
       "      <td>-2.684260</td>\n",
       "      <td>-3.502790</td>\n",
       "      <td>-3.541180</td>\n",
       "      <td>-2.488020</td>\n",
       "      <td>-3.818790</td>\n",
       "      <td>-3.018940</td>\n",
       "      <td>-3.508020</td>\n",
       "      <td>-2.567170</td>\n",
       "    </tr>\n",
       "    <tr>\n",
       "      <th>25%</th>\n",
       "      <td>34.000000</td>\n",
       "      <td>341025.000000</td>\n",
       "      <td>2010.0</td>\n",
       "      <td>2.101998</td>\n",
       "      <td>0.524176</td>\n",
       "      <td>0.459289</td>\n",
       "      <td>1.269270</td>\n",
       "      <td>4.231547</td>\n",
       "      <td>2.421398</td>\n",
       "      <td>0.451184</td>\n",
       "      <td>...</td>\n",
       "      <td>-0.447079</td>\n",
       "      <td>-0.550032</td>\n",
       "      <td>-0.924010</td>\n",
       "      <td>-0.919192</td>\n",
       "      <td>-1.053015</td>\n",
       "      <td>-0.422918</td>\n",
       "      <td>-0.601708</td>\n",
       "      <td>-0.482121</td>\n",
       "      <td>-1.119657</td>\n",
       "      <td>-0.970280</td>\n",
       "    </tr>\n",
       "    <tr>\n",
       "      <th>50%</th>\n",
       "      <td>42.000000</td>\n",
       "      <td>420750.000000</td>\n",
       "      <td>2010.0</td>\n",
       "      <td>2.169625</td>\n",
       "      <td>0.788603</td>\n",
       "      <td>0.666419</td>\n",
       "      <td>1.603957</td>\n",
       "      <td>4.291116</td>\n",
       "      <td>2.621166</td>\n",
       "      <td>0.780451</td>\n",
       "      <td>...</td>\n",
       "      <td>0.215151</td>\n",
       "      <td>0.215907</td>\n",
       "      <td>-0.213439</td>\n",
       "      <td>-0.108272</td>\n",
       "      <td>-0.405871</td>\n",
       "      <td>0.110385</td>\n",
       "      <td>0.252128</td>\n",
       "      <td>0.312521</td>\n",
       "      <td>-0.278752</td>\n",
       "      <td>-0.469215</td>\n",
       "    </tr>\n",
       "    <tr>\n",
       "      <th>75%</th>\n",
       "      <td>51.000000</td>\n",
       "      <td>510975.000000</td>\n",
       "      <td>2010.0</td>\n",
       "      <td>2.230820</td>\n",
       "      <td>1.054229</td>\n",
       "      <td>0.902600</td>\n",
       "      <td>2.007281</td>\n",
       "      <td>4.336313</td>\n",
       "      <td>2.818989</td>\n",
       "      <td>1.128656</td>\n",
       "      <td>...</td>\n",
       "      <td>0.970237</td>\n",
       "      <td>1.021440</td>\n",
       "      <td>0.454197</td>\n",
       "      <td>0.496199</td>\n",
       "      <td>0.368648</td>\n",
       "      <td>0.650588</td>\n",
       "      <td>1.002952</td>\n",
       "      <td>0.933699</td>\n",
       "      <td>0.384749</td>\n",
       "      <td>0.415029</td>\n",
       "    </tr>\n",
       "    <tr>\n",
       "      <th>max</th>\n",
       "      <td>64.000000</td>\n",
       "      <td>640400.000000</td>\n",
       "      <td>2010.0</td>\n",
       "      <td>2.460443</td>\n",
       "      <td>3.958626</td>\n",
       "      <td>2.669309</td>\n",
       "      <td>3.387681</td>\n",
       "      <td>4.436059</td>\n",
       "      <td>3.257448</td>\n",
       "      <td>3.005563</td>\n",
       "      <td>...</td>\n",
       "      <td>3.586550</td>\n",
       "      <td>3.366450</td>\n",
       "      <td>3.208750</td>\n",
       "      <td>2.266980</td>\n",
       "      <td>2.788410</td>\n",
       "      <td>2.880620</td>\n",
       "      <td>2.613750</td>\n",
       "      <td>3.338580</td>\n",
       "      <td>2.663130</td>\n",
       "      <td>2.786980</td>\n",
       "    </tr>\n",
       "  </tbody>\n",
       "</table>\n",
       "<p>8 rows × 2064 columns</p>\n",
       "</div>"
      ],
      "text/plain": [
       "           provid         prefid    year   lneduyear  lnjinshipop  \\\n",
       "count  274.000000     274.000000   274.0  274.000000   274.000000   \n",
       "mean    40.572993  406766.058394  2010.0    2.160471     0.917486   \n",
       "std     13.293674  133168.485563     0.0    0.118061     0.701236   \n",
       "min     11.000000  110000.000000  2010.0    1.726332     0.000000   \n",
       "25%     34.000000  341025.000000  2010.0    2.101998     0.524176   \n",
       "50%     42.000000  420750.000000  2010.0    2.169625     0.788603   \n",
       "75%     51.000000  510975.000000  2010.0    2.230820     1.054229   \n",
       "max     64.000000  640400.000000  2010.0    2.460443     3.958626   \n",
       "\n",
       "       lnjinshipopm     lnnspop     lnmppop   lnhighpop    lnunipop  ...  \\\n",
       "count    274.000000  274.000000  274.000000  274.000000  274.000000  ...   \n",
       "mean       0.678223    1.639050    4.267677    2.593947    0.878129  ...   \n",
       "std        0.336513    0.587474    0.106720    0.315687    0.653332  ...   \n",
       "min        0.000000   -0.301293    3.763713    1.645886   -0.954173  ...   \n",
       "25%        0.459289    1.269270    4.231547    2.421398    0.451184  ...   \n",
       "50%        0.666419    1.603957    4.291116    2.621166    0.780451  ...   \n",
       "75%        0.902600    2.007281    4.336313    2.818989    1.128656  ...   \n",
       "max        2.669309    3.387681    4.436059    3.257448    3.005563  ...   \n",
       "\n",
       "         noise491    noise492    noise493    noise494    noise495    noise496  \\\n",
       "count  274.000000  274.000000  274.000000  274.000000  274.000000  274.000000   \n",
       "mean     0.263004    0.229871   -0.231798   -0.181745   -0.350418    0.114853   \n",
       "std      1.072196    1.159484    1.056623    1.113320    1.070050    0.947882   \n",
       "min     -2.195120   -2.721890   -2.684260   -3.502790   -3.541180   -2.488020   \n",
       "25%     -0.447079   -0.550032   -0.924010   -0.919192   -1.053015   -0.422918   \n",
       "50%      0.215151    0.215907   -0.213439   -0.108272   -0.405871    0.110385   \n",
       "75%      0.970237    1.021440    0.454197    0.496199    0.368648    0.650588   \n",
       "max      3.586550    3.366450    3.208750    2.266980    2.788410    2.880620   \n",
       "\n",
       "         noise497    noise498    noise499    noise500  \n",
       "count  274.000000  274.000000  274.000000  274.000000  \n",
       "mean     0.164522    0.209750   -0.287392   -0.273478  \n",
       "std      1.083819    1.105535    1.117204    0.995672  \n",
       "min     -3.818790   -3.018940   -3.508020   -2.567170  \n",
       "25%     -0.601708   -0.482121   -1.119657   -0.970280  \n",
       "50%      0.252128    0.312521   -0.278752   -0.469215  \n",
       "75%      1.002952    0.933699    0.384749    0.415029  \n",
       "max      2.613750    3.338580    2.663130    2.786980  \n",
       "\n",
       "[8 rows x 2064 columns]"
      ]
     },
     "execution_count": 39,
     "metadata": {},
     "output_type": "execute_result"
    }
   ],
   "source": [
    "data.describe()"
   ]
  },
  {
   "cell_type": "code",
   "execution_count": 40,
   "metadata": {},
   "outputs": [
    {
     "data": {
      "text/html": [
       "<div>\n",
       "<style scoped>\n",
       "    .dataframe tbody tr th:only-of-type {\n",
       "        vertical-align: middle;\n",
       "    }\n",
       "\n",
       "    .dataframe tbody tr th {\n",
       "        vertical-align: top;\n",
       "    }\n",
       "\n",
       "    .dataframe thead th {\n",
       "        text-align: right;\n",
       "    }\n",
       "</style>\n",
       "<table border=\"1\" class=\"dataframe\">\n",
       "  <thead>\n",
       "    <tr style=\"text-align: right;\">\n",
       "      <th></th>\n",
       "      <th>provid</th>\n",
       "      <th>prefid</th>\n",
       "      <th>year</th>\n",
       "      <th>lneduyear</th>\n",
       "      <th>lnjinshipop</th>\n",
       "      <th>lnjinshipopm</th>\n",
       "      <th>lnnspop</th>\n",
       "      <th>lnmppop</th>\n",
       "      <th>lnhighpop</th>\n",
       "      <th>lnunipop</th>\n",
       "      <th>...</th>\n",
       "      <th>noise491</th>\n",
       "      <th>noise492</th>\n",
       "      <th>noise493</th>\n",
       "      <th>noise494</th>\n",
       "      <th>noise495</th>\n",
       "      <th>noise496</th>\n",
       "      <th>noise497</th>\n",
       "      <th>noise498</th>\n",
       "      <th>noise499</th>\n",
       "      <th>noise500</th>\n",
       "    </tr>\n",
       "  </thead>\n",
       "  <tbody>\n",
       "    <tr>\n",
       "      <th>0</th>\n",
       "      <td>11</td>\n",
       "      <td>110000</td>\n",
       "      <td>2010</td>\n",
       "      <td>2.460443</td>\n",
       "      <td>3.524788</td>\n",
       "      <td>0.948615</td>\n",
       "      <td>0.659374</td>\n",
       "      <td>3.763713</td>\n",
       "      <td>3.096525</td>\n",
       "      <td>3.005563</td>\n",
       "      <td>...</td>\n",
       "      <td>0.735054</td>\n",
       "      <td>-0.204104</td>\n",
       "      <td>-0.051415</td>\n",
       "      <td>-2.30667</td>\n",
       "      <td>0.106515</td>\n",
       "      <td>0.641990</td>\n",
       "      <td>0.264227</td>\n",
       "      <td>-0.615538</td>\n",
       "      <td>-1.747360</td>\n",
       "      <td>-0.972191</td>\n",
       "    </tr>\n",
       "    <tr>\n",
       "      <th>1</th>\n",
       "      <td>12</td>\n",
       "      <td>120000</td>\n",
       "      <td>2010</td>\n",
       "      <td>2.339881</td>\n",
       "      <td>3.715426</td>\n",
       "      <td>1.089838</td>\n",
       "      <td>0.924650</td>\n",
       "      <td>4.054408</td>\n",
       "      <td>3.071374</td>\n",
       "      <td>2.247523</td>\n",
       "      <td>...</td>\n",
       "      <td>0.486845</td>\n",
       "      <td>0.209008</td>\n",
       "      <td>-0.086088</td>\n",
       "      <td>-1.16902</td>\n",
       "      <td>0.164606</td>\n",
       "      <td>0.562821</td>\n",
       "      <td>-0.848861</td>\n",
       "      <td>-1.223530</td>\n",
       "      <td>-0.677448</td>\n",
       "      <td>-0.351335</td>\n",
       "    </tr>\n",
       "    <tr>\n",
       "      <th>2</th>\n",
       "      <td>13</td>\n",
       "      <td>130100</td>\n",
       "      <td>2010</td>\n",
       "      <td>2.291524</td>\n",
       "      <td>0.740044</td>\n",
       "      <td>0.645539</td>\n",
       "      <td>1.067730</td>\n",
       "      <td>4.174466</td>\n",
       "      <td>2.912484</td>\n",
       "      <td>1.686739</td>\n",
       "      <td>...</td>\n",
       "      <td>0.522548</td>\n",
       "      <td>0.107973</td>\n",
       "      <td>-1.772780</td>\n",
       "      <td>0.14157</td>\n",
       "      <td>1.390890</td>\n",
       "      <td>1.053540</td>\n",
       "      <td>-0.643791</td>\n",
       "      <td>0.110635</td>\n",
       "      <td>0.027527</td>\n",
       "      <td>-0.756014</td>\n",
       "    </tr>\n",
       "    <tr>\n",
       "      <th>3</th>\n",
       "      <td>13</td>\n",
       "      <td>130200</td>\n",
       "      <td>2010</td>\n",
       "      <td>2.234306</td>\n",
       "      <td>0.629364</td>\n",
       "      <td>0.568703</td>\n",
       "      <td>0.986211</td>\n",
       "      <td>4.277832</td>\n",
       "      <td>2.762247</td>\n",
       "      <td>1.264045</td>\n",
       "      <td>...</td>\n",
       "      <td>0.731819</td>\n",
       "      <td>0.213199</td>\n",
       "      <td>-0.454296</td>\n",
       "      <td>-2.23385</td>\n",
       "      <td>0.493035</td>\n",
       "      <td>0.574072</td>\n",
       "      <td>1.347320</td>\n",
       "      <td>0.958466</td>\n",
       "      <td>-1.401100</td>\n",
       "      <td>-0.756889</td>\n",
       "    </tr>\n",
       "    <tr>\n",
       "      <th>4</th>\n",
       "      <td>13</td>\n",
       "      <td>130300</td>\n",
       "      <td>2010</td>\n",
       "      <td>2.264883</td>\n",
       "      <td>0.768287</td>\n",
       "      <td>0.695363</td>\n",
       "      <td>0.779154</td>\n",
       "      <td>4.241666</td>\n",
       "      <td>2.769293</td>\n",
       "      <td>1.703107</td>\n",
       "      <td>...</td>\n",
       "      <td>1.665280</td>\n",
       "      <td>-0.181209</td>\n",
       "      <td>-0.234180</td>\n",
       "      <td>-2.34584</td>\n",
       "      <td>0.214735</td>\n",
       "      <td>0.410965</td>\n",
       "      <td>0.778644</td>\n",
       "      <td>0.380392</td>\n",
       "      <td>-1.338840</td>\n",
       "      <td>0.522550</td>\n",
       "    </tr>\n",
       "  </tbody>\n",
       "</table>\n",
       "<p>5 rows × 2064 columns</p>\n",
       "</div>"
      ],
      "text/plain": [
       "   provid  prefid  year  lneduyear  lnjinshipop  lnjinshipopm   lnnspop  \\\n",
       "0      11  110000  2010   2.460443     3.524788      0.948615  0.659374   \n",
       "1      12  120000  2010   2.339881     3.715426      1.089838  0.924650   \n",
       "2      13  130100  2010   2.291524     0.740044      0.645539  1.067730   \n",
       "3      13  130200  2010   2.234306     0.629364      0.568703  0.986211   \n",
       "4      13  130300  2010   2.264883     0.768287      0.695363  0.779154   \n",
       "\n",
       "    lnmppop  lnhighpop  lnunipop  ...  noise491  noise492  noise493  noise494  \\\n",
       "0  3.763713   3.096525  3.005563  ...  0.735054 -0.204104 -0.051415  -2.30667   \n",
       "1  4.054408   3.071374  2.247523  ...  0.486845  0.209008 -0.086088  -1.16902   \n",
       "2  4.174466   2.912484  1.686739  ...  0.522548  0.107973 -1.772780   0.14157   \n",
       "3  4.277832   2.762247  1.264045  ...  0.731819  0.213199 -0.454296  -2.23385   \n",
       "4  4.241666   2.769293  1.703107  ...  1.665280 -0.181209 -0.234180  -2.34584   \n",
       "\n",
       "   noise495  noise496  noise497  noise498  noise499  noise500  \n",
       "0  0.106515  0.641990  0.264227 -0.615538 -1.747360 -0.972191  \n",
       "1  0.164606  0.562821 -0.848861 -1.223530 -0.677448 -0.351335  \n",
       "2  1.390890  1.053540 -0.643791  0.110635  0.027527 -0.756014  \n",
       "3  0.493035  0.574072  1.347320  0.958466 -1.401100 -0.756889  \n",
       "4  0.214735  0.410965  0.778644  0.380392 -1.338840  0.522550  \n",
       "\n",
       "[5 rows x 2064 columns]"
      ]
     },
     "execution_count": 40,
     "metadata": {},
     "output_type": "execute_result"
    }
   ],
   "source": [
    "data.head()"
   ]
  },
  {
   "cell_type": "code",
   "execution_count": 41,
   "metadata": {},
   "outputs": [],
   "source": [
    "def table_sum_stats(data):\n",
    "    \n",
    "    variables = data[\n",
    "        [\n",
    "            \"lneduyear\",\n",
    "            \"lnjinshipop\",\n",
    "            \"lnnightlight\",\n",
    "            \"lncoastdist\",\n",
    "            \"tri\",\n",
    "            \"suitability\",\n",
    "            \"lnpopdensity\",\n",
    "            \"urbanrates\",\n",
    "\n",
    "            \"lnprint\",\n",
    "            \"pcenter\",\n",
    "            \"bprvdist\",\n",
    "            \"rvrdist\",\n",
    "        ]\n",
    "    ]\n",
    "\n",
    "    table = pd.DataFrame()\n",
    "    table[\"Observation\"] = variables.count()\n",
    "    table[\"Mean\"] = variables.mean()\n",
    "    table[\"Standard Deviation\"] = variables.std()\n",
    "    table[\"min\"] = variables.min()\n",
    "    table[\"max\"] = variables.max()\n",
    "    table = table.astype(float).round(3)\n",
    "    table[\"Description\"] = [\n",
    "            \"Average years of schooling (logged)\",\n",
    "            \"Jinshi density (logged)\",\n",
    "            \"Night-time lights in 2010 (logged)\",\n",
    "            \"Distance to coast (1,000 km, logged)\",\n",
    "            \"Terrain ruggedness\",\n",
    "            \"Agricultural suitability\",\n",
    "            \"Population density (logged)\",\n",
    "            \"Urbanisation rates\",\n",
    "\n",
    "            \"Printed books (logged)\",\n",
    "            \"Printing centre\",\n",
    "            \"Shortest river distance to pine/bamboo (km, logged)\",\n",
    "            \"Shortest distance to major navigable rivers (km, logged)\",\n",
    "    ]\n",
    "    \n",
    "\n",
    "    return table"
   ]
  },
  {
   "cell_type": "code",
   "execution_count": 42,
   "metadata": {},
   "outputs": [
    {
     "data": {
      "text/html": [
       "<div>\n",
       "<style scoped>\n",
       "    .dataframe tbody tr th:only-of-type {\n",
       "        vertical-align: middle;\n",
       "    }\n",
       "\n",
       "    .dataframe tbody tr th {\n",
       "        vertical-align: top;\n",
       "    }\n",
       "\n",
       "    .dataframe thead th {\n",
       "        text-align: right;\n",
       "    }\n",
       "</style>\n",
       "<table border=\"1\" class=\"dataframe\">\n",
       "  <thead>\n",
       "    <tr style=\"text-align: right;\">\n",
       "      <th></th>\n",
       "      <th>Observation</th>\n",
       "      <th>Mean</th>\n",
       "      <th>Standard Deviation</th>\n",
       "      <th>min</th>\n",
       "      <th>max</th>\n",
       "      <th>Description</th>\n",
       "    </tr>\n",
       "  </thead>\n",
       "  <tbody>\n",
       "    <tr>\n",
       "      <th>lneduyear</th>\n",
       "      <td>274.0</td>\n",
       "      <td>2.160</td>\n",
       "      <td>0.118</td>\n",
       "      <td>1.726</td>\n",
       "      <td>2.460</td>\n",
       "      <td>Average years of schooling (logged)</td>\n",
       "    </tr>\n",
       "    <tr>\n",
       "      <th>lnjinshipop</th>\n",
       "      <td>274.0</td>\n",
       "      <td>0.917</td>\n",
       "      <td>0.701</td>\n",
       "      <td>0.000</td>\n",
       "      <td>3.959</td>\n",
       "      <td>Jinshi density (logged)</td>\n",
       "    </tr>\n",
       "    <tr>\n",
       "      <th>lnnightlight</th>\n",
       "      <td>274.0</td>\n",
       "      <td>0.722</td>\n",
       "      <td>1.246</td>\n",
       "      <td>-4.072</td>\n",
       "      <td>3.482</td>\n",
       "      <td>Night-time lights in 2010 (logged)</td>\n",
       "    </tr>\n",
       "    <tr>\n",
       "      <th>lncoastdist</th>\n",
       "      <td>274.0</td>\n",
       "      <td>12.608</td>\n",
       "      <td>1.175</td>\n",
       "      <td>9.731</td>\n",
       "      <td>14.698</td>\n",
       "      <td>Distance to coast (1,000 km, logged)</td>\n",
       "    </tr>\n",
       "    <tr>\n",
       "      <th>tri</th>\n",
       "      <td>274.0</td>\n",
       "      <td>0.207</td>\n",
       "      <td>0.175</td>\n",
       "      <td>0.005</td>\n",
       "      <td>0.821</td>\n",
       "      <td>Terrain ruggedness</td>\n",
       "    </tr>\n",
       "    <tr>\n",
       "      <th>suitability</th>\n",
       "      <td>274.0</td>\n",
       "      <td>3.008</td>\n",
       "      <td>0.716</td>\n",
       "      <td>0.550</td>\n",
       "      <td>4.838</td>\n",
       "      <td>Agricultural suitability</td>\n",
       "    </tr>\n",
       "    <tr>\n",
       "      <th>lnpopdensity</th>\n",
       "      <td>274.0</td>\n",
       "      <td>2.188</td>\n",
       "      <td>0.992</td>\n",
       "      <td>-1.297</td>\n",
       "      <td>4.153</td>\n",
       "      <td>Population density (logged)</td>\n",
       "    </tr>\n",
       "    <tr>\n",
       "      <th>urbanrates</th>\n",
       "      <td>274.0</td>\n",
       "      <td>0.051</td>\n",
       "      <td>0.035</td>\n",
       "      <td>0.000</td>\n",
       "      <td>0.307</td>\n",
       "      <td>Urbanisation rates</td>\n",
       "    </tr>\n",
       "    <tr>\n",
       "      <th>lnprint</th>\n",
       "      <td>274.0</td>\n",
       "      <td>2.024</td>\n",
       "      <td>1.621</td>\n",
       "      <td>0.000</td>\n",
       "      <td>6.987</td>\n",
       "      <td>Printed books (logged)</td>\n",
       "    </tr>\n",
       "    <tr>\n",
       "      <th>pcenter</th>\n",
       "      <td>274.0</td>\n",
       "      <td>0.069</td>\n",
       "      <td>0.255</td>\n",
       "      <td>0.000</td>\n",
       "      <td>1.000</td>\n",
       "      <td>Printing centre</td>\n",
       "    </tr>\n",
       "    <tr>\n",
       "      <th>bprvdist</th>\n",
       "      <td>274.0</td>\n",
       "      <td>9.985</td>\n",
       "      <td>5.606</td>\n",
       "      <td>0.000</td>\n",
       "      <td>21.195</td>\n",
       "      <td>Shortest river distance to pine/bamboo (km, lo...</td>\n",
       "    </tr>\n",
       "    <tr>\n",
       "      <th>rvrdist</th>\n",
       "      <td>274.0</td>\n",
       "      <td>2.969</td>\n",
       "      <td>2.691</td>\n",
       "      <td>0.042</td>\n",
       "      <td>17.606</td>\n",
       "      <td>Shortest distance to major navigable rivers (k...</td>\n",
       "    </tr>\n",
       "  </tbody>\n",
       "</table>\n",
       "</div>"
      ],
      "text/plain": [
       "              Observation    Mean  Standard Deviation    min     max  \\\n",
       "lneduyear           274.0   2.160               0.118  1.726   2.460   \n",
       "lnjinshipop         274.0   0.917               0.701  0.000   3.959   \n",
       "lnnightlight        274.0   0.722               1.246 -4.072   3.482   \n",
       "lncoastdist         274.0  12.608               1.175  9.731  14.698   \n",
       "tri                 274.0   0.207               0.175  0.005   0.821   \n",
       "suitability         274.0   3.008               0.716  0.550   4.838   \n",
       "lnpopdensity        274.0   2.188               0.992 -1.297   4.153   \n",
       "urbanrates          274.0   0.051               0.035  0.000   0.307   \n",
       "lnprint             274.0   2.024               1.621  0.000   6.987   \n",
       "pcenter             274.0   0.069               0.255  0.000   1.000   \n",
       "bprvdist            274.0   9.985               5.606  0.000  21.195   \n",
       "rvrdist             274.0   2.969               2.691  0.042  17.606   \n",
       "\n",
       "                                                    Description  \n",
       "lneduyear                   Average years of schooling (logged)  \n",
       "lnjinshipop                             Jinshi density (logged)  \n",
       "lnnightlight                 Night-time lights in 2010 (logged)  \n",
       "lncoastdist                Distance to coast (1,000 km, logged)  \n",
       "tri                                          Terrain ruggedness  \n",
       "suitability                            Agricultural suitability  \n",
       "lnpopdensity                        Population density (logged)  \n",
       "urbanrates                                   Urbanisation rates  \n",
       "lnprint                                  Printed books (logged)  \n",
       "pcenter                                         Printing centre  \n",
       "bprvdist      Shortest river distance to pine/bamboo (km, lo...  \n",
       "rvrdist       Shortest distance to major navigable rivers (k...  "
      ]
     },
     "execution_count": 42,
     "metadata": {},
     "output_type": "execute_result"
    }
   ],
   "source": [
    "table1 = table_sum_stats(data)\n",
    "table1"
   ]
  },
  {
   "cell_type": "code",
   "execution_count": 43,
   "metadata": {},
   "outputs": [],
   "source": [
    "def plot_distribution(data, variable):\n",
    "    \n",
    "    plot=plt.figure(figsize=(8,8))\n",
    "    plot=plt.xlim(1,2.5)\n",
    "    plot=plt.xlabel(variable)\n",
    "    plot=plt.ylabel('Count')\n",
    "    plot=sns.histplot(data[variable])\n",
    "    \n",
    "    return plot"
   ]
  },
  {
   "cell_type": "code",
   "execution_count": 44,
   "metadata": {},
   "outputs": [
    {
     "data": {
      "text/plain": [
       "2.1604706138686143"
      ]
     },
     "execution_count": 44,
     "metadata": {},
     "output_type": "execute_result"
    },
    {
     "data": {
      "image/png": "[encoded data removed]",
      "text/plain": [
       "<Figure size 576x576 with 1 Axes>"
      ]
     },
     "metadata": {
      "needs_background": "light"
     },
     "output_type": "display_data"
    }
   ],
   "source": [
    "plot_distribution(data, \"lneduyear\")\n",
    "data[\"lneduyear\"].mean()"
   ]
  },
  {
   "cell_type": "markdown",
   "metadata": {},
   "source": [
    "## 4.2. Keju and Distance to the Printing Ingredients\n",
    "\n",
    "\n",
    "In order to convincingly pursue the identification strategy outlined above, it is necessary to establish an effect of distance to printing ingredients on jinshi density and to argue that the distance is exogenous to any unobserved factor affecting both jinshi density and contemporary human capital. As argued before one could easily construct reasonable patterns of unobservables that both cause jinshi density and contemporary human capital rendering a naive regression of comtemporary human capital on keju as biased.\n",
    "\n",
    "The first requirement for IV to be valid holds, as it is clearly observable that distance to printing ingredients has an effect on jinshi density. The instrument is hence relevant. For the second requirement, Chen argues that the geographic distribution of pine and bamboo forests is random in nature and hence not correlated with any other unobserved variables (exogenous). The exogeneity assumption of the instrumental variable also holds. \n",
    "\n",
    "The importance of pine and bamboo for printing and accordingly a prefecture’s success in the civil exam is examed as follows. \n"
   ]
  },
  {
   "cell_type": "code",
   "execution_count": 45,
   "metadata": {},
   "outputs": [
    {
     "name": "stdout",
     "output_type": "stream",
     "text": [
      "lnprint         Printed books (logged)\n",
      "pcenter         Printing centre\n",
      "bprvdist        Shortest river distance to pine/bamboo (km, logged)\n",
      "rvrdist         Shortest distance to major navigable rivers (km, logged)\n"
     ]
    }
   ],
   "source": [
    "file_path = '/Users/mengxi/Documents/GitHub/ose-data-science-course-project-Mengxi-20/files/Abb_2.txt'\n",
    "with open(file_path) as file_abb_1:\n",
    "    abb2 = file_abb_1.read()\n",
    "print(abb2)"
   ]
  },
  {
   "cell_type": "code",
   "execution_count": 46,
   "metadata": {},
   "outputs": [
    {
     "name": "stderr",
     "output_type": "stream",
     "text": [
      "/Users/mxx/opt/anaconda3/lib/python3.7/site-packages/statsmodels/tsa/tsatools.py:142: FutureWarning: In a future version of pandas all arguments of concat except for the argument 'objs' will be keyword-only\n",
      "  x = pd.concat(x[::order], 1)\n"
     ]
    },
    {
     "name": "stdout",
     "output_type": "stream",
     "text": [
      "                       Model Comparison                       \n",
      "==============================================================\n",
      "                        jinshi density(logged) printing center\n",
      "--------------------------------------------------------------\n",
      "Dep. Variable                      lnjinshipop         pcenter\n",
      "Estimator                             PanelOLS        PanelOLS\n",
      "No. Observations                           274             274\n",
      "Cov. Est.                            Clustered       Clustered\n",
      "R-squared                               0.2876          0.0795\n",
      "R-Squared (Within)                      0.0000          0.0000\n",
      "R-Squared (Between)                     0.3173          0.1994\n",
      "R-Squared (Overall)                     0.2650          0.0795\n",
      "F-statistic                             24.429          5.2253\n",
      "P-value (F-stat)                        0.0000          0.0005\n",
      "=====================            =============    ============\n",
      "const                                   0.1857         -0.5395\n",
      "                                      (0.8450)        (0.4253)\n",
      "lnprint                              0.1488***                \n",
      "                                      (0.0314)                \n",
      "lnnightlight                         0.3460***          0.0202\n",
      "                                      (0.0690)        (0.0238)\n",
      "lncoastdist                             0.0029         0.0590*\n",
      "                                      (0.0661)        (0.0344)\n",
      "tri                                     0.6951          0.0586\n",
      "                                      (0.4413)        (0.1264)\n",
      "bprvdist                                            -0.0161***\n",
      "                                                      (0.0052)\n",
      "=======================        ===============  ==============\n",
      "Effects                                 Entity          Entity\n",
      "--------------------------------------------------------------\n",
      "\n",
      "Std. Errors reported in parentheses\n",
      "                                  Model Comparison                                  \n",
      "====================================================================================\n",
      "                        jinshi density(logged) printing center printed books(logged)\n",
      "------------------------------------------------------------------------------------\n",
      "Dep. Variable                      lnjinshipop         pcenter               lnprint\n",
      "Estimator                             PanelOLS        PanelOLS              PanelOLS\n",
      "No. Observations                           274             274                   274\n",
      "Cov. Est.                            Clustered       Clustered             Clustered\n",
      "R-squared                               0.4705          0.0795                0.1183\n",
      "R-Squared (Within)                      0.0000          0.0000                0.0000\n",
      "R-Squared (Between)                     0.5621          0.1994                0.2971\n",
      "R-Squared (Overall)                     0.3489          0.0795                0.2861\n",
      "F-statistic                             53.760          5.2253                8.1206\n",
      "P-value (F-stat)                        0.0000          0.0005                0.0000\n",
      "=====================            =============    ============          ============\n",
      "const                                   1.1407         -0.5395               -0.2047\n",
      "                                      (0.6979)        (0.4253)              (2.3379)\n",
      "bprvdist                            -0.0879***      -0.0161***            -0.0801***\n",
      "                                      (0.0099)        (0.0052)              (0.0227)\n",
      "lnnightlight                         0.2525***          0.0202                0.1227\n",
      "                                      (0.0474)        (0.0238)              (0.1203)\n",
      "lncoastdist                             0.0321         0.0590*                0.2719\n",
      "                                      (0.0579)        (0.0344)              (0.1850)\n",
      "tri                                     0.3259          0.0586            -2.3588***\n",
      "                                      (0.3367)        (0.1264)              (0.8371)\n",
      "=======================        ===============  ==============        ==============\n",
      "Effects                                 Entity          Entity                Entity\n",
      "------------------------------------------------------------------------------------\n",
      "\n",
      "Std. Errors reported in parentheses\n"
     ]
    },
    {
     "name": "stderr",
     "output_type": "stream",
     "text": [
      "/Users/mxx/opt/anaconda3/lib/python3.7/site-packages/linearmodels/panel/results.py:1022: FutureWarning: In a future version of pandas all arguments of concat except for the argument 'objs' will be keyword-only\n",
      "  1,\n"
     ]
    }
   ],
   "source": [
    "# table 4 \n",
    "# final version\n",
    "provid = pd.Categorical(data.provid)\n",
    "\n",
    "data['provid'] = provid\n",
    "data = data.set_index(['provid','year'])\n",
    "\n",
    "exog_vars = ['lnprint']\n",
    "exog = sm.add_constant(data[exog_vars])\n",
    "mod = PanelOLS(data.lnjinshipop,exog,entity_effects=True)\n",
    "res_fe_1 = mod.fit()\n",
    "\n",
    "\n",
    "exog_vars = ['lnprint','lnnightlight','lncoastdist','tri']\n",
    "exog = sm.add_constant(data[exog_vars])\n",
    "mod = PanelOLS(data.lnjinshipop,exog,entity_effects=True)\n",
    "res_fe_2 = mod.fit(cov_type = 'clustered',cluster_effects=True)\n",
    "\n",
    "\n",
    "exog_vars = ['bprvdist']\n",
    "exog = sm.add_constant(data[exog_vars])\n",
    "mod = PanelOLS(data.pcenter,exog,entity_effects=True)\n",
    "res_fe_3 = mod.fit(cov_type = 'clustered',cluster_effects=True)\n",
    "\n",
    "exog_vars = ['bprvdist','lnnightlight','lncoastdist','tri']\n",
    "exog = sm.add_constant(data[exog_vars])\n",
    "mod = PanelOLS(data.pcenter,exog,entity_effects=True)\n",
    "res_fe_4 = mod.fit(cov_type = 'clustered',cluster_effects=True)\n",
    "\n",
    "exog_vars = ['bprvdist']\n",
    "exog = sm.add_constant(data[exog_vars])\n",
    "mod = PanelOLS(data.lnprint,exog,entity_effects=True)\n",
    "res_fe_5 = mod.fit(cov_type = 'clustered',cluster_effects=True)\n",
    "\n",
    "exog_vars = ['bprvdist','lnnightlight','lncoastdist','tri']\n",
    "exog = sm.add_constant(data[exog_vars])\n",
    "mod = PanelOLS(data.lnprint,exog,entity_effects=True)\n",
    "res_fe_6 = mod.fit(cov_type = 'clustered',cluster_effects=True)\n",
    "\n",
    "exog_vars = ['bprvdist']\n",
    "exog = sm.add_constant(data[exog_vars])\n",
    "mod = PanelOLS(data.lnjinshipop,exog,entity_effects=True)\n",
    "res_fe_7 = mod.fit(cov_type = 'clustered',cluster_effects=True)\n",
    "\n",
    "exog_vars = ['bprvdist','lnnightlight','lncoastdist','tri']\n",
    "exog = sm.add_constant(data[exog_vars])\n",
    "mod = PanelOLS(data.lnjinshipop,exog,entity_effects=True)\n",
    "res_fe_8 = mod.fit(cov_type = 'clustered',cluster_effects=True)\n",
    "\n",
    "print(compare({\"jinshi density(logged)\": res_fe_1, \"jinshi density(logged)\": res_fe_2, \"printing center\": res_fe_3, \"printing center\": res_fe_4}, stars = True, precision = \"std_errors\"))\n",
    "\n",
    "print(compare({\"jinshi density(logged)\": res_fe_1, \"jinshi density(logged)\": res_fe_2, \"printing center\": res_fe_3, \"printing center\": res_fe_4, \"printed books(logged)\": res_fe_5, \"printed books(logged)\": res_fe_6, \"jinshi density(logged)\": res_fe_7, \"jinshi density(logged)\": res_fe_8}, stars = True, precision = \"std_errors\"))\n",
    "\n",
    "\n"
   ]
  },
  {
   "cell_type": "markdown",
   "metadata": {},
   "source": [
    "As for exclusion restrictions, little evidence shows that pine and bamboo were intentionally planted for the purpose of commercial printing (Elvin, 2004). Even the most successful wood merchants in Huizhou prefecture of Anhui Province preferred to lumber trees from primordial forests rather than planting on their own (Li, 2000). The locations of pine and bamboo forests are therefore uncorrelated with other omitted variables, — most notably economic prosperity (including population density and urbanisation rate of a prefecture), which may be correlated with years of schooling today. \n",
    "\n",
    "Last but not least, Chen et. al. (2020) is confident that the IV does not have a direct effect on the contemporary development of the publishing industry and possibly economic prosperity as in the case of Europe, because the traditional Chinese woodblock printing was gradually replaced by the new printing technology in the late 20th century, which means that pine and bamboo as raw materials of printing technology stepped off the history stage.\n",
    "\n",
    "\n",
    "这里还要改\n",
    "In fact, by regressing our instrument on jinshi density but dividing it into 50-year chunks (see the coefficients in Figure 4), we do find that the average distance to pine and bamboo forests is significantly and positively correlated with jinshi density between the early 15th and the mid-19th centuries (c. 1451–1840), but becomes insignificant in the post-1850 period with the advent of the new printing technology.\n",
    "\n",
    "\n",
    "So, distance to printing ingredients only affects comtemporary human capital through affecting jinshi density.\n",
    "\n",
    "\n",
    "Z only affect the outcome Y through affecting X"
   ]
  },
  {
   "cell_type": "markdown",
   "metadata": {},
   "source": [
    "## 4.3. Measuring the Impact of Keju on Contemporary Human Capital Outcomes\n",
    "\n",
    "### 4.3.1. Baseline OLS estimates\n",
    "\n",
    "\n",
    "By plotting correlation between jinshi density and years of schooling in 2010 in the following figure, it is obvious that there is a strong positive relationship between a prefecture’s success in the civil exam and contemporary human capital outcomes. \n"
   ]
  },
  {
   "cell_type": "code",
   "execution_count": 47,
   "metadata": {},
   "outputs": [
    {
     "name": "stderr",
     "output_type": "stream",
     "text": [
      "/Users/mxx/opt/anaconda3/lib/python3.7/site-packages/seaborn/_decorators.py:43: FutureWarning: Pass the following variables as keyword args: x, y. From version 0.12, the only valid positional argument will be `data`, and passing other arguments without an explicit keyword will result in an error or misinterpretation.\n",
      "  FutureWarning\n"
     ]
    },
    {
     "data": {
      "image/png": "[encoded data removed]",
      "text/plain": [
       "<Figure size 504x504 with 3 Axes>"
      ]
     },
     "metadata": {},
     "output_type": "display_data"
    }
   ],
   "source": [
    "sns.set(style=\"darkgrid\")\n",
    "g = sns.jointplot(\"lnjinshipop\", \"lneduyear\", \n",
    "                   data=data, kind=\"reg\",\n",
    "                   color=\"m\", height=7)"
   ]
  },
  {
   "cell_type": "code",
   "execution_count": 48,
   "metadata": {},
   "outputs": [
    {
     "name": "stdout",
     "output_type": "stream",
     "text": [
      "                            OLS Regression Results                            \n",
      "==============================================================================\n",
      "Dep. Variable:              lneduyear   R-squared:                       0.368\n",
      "Model:                            OLS   Adj. R-squared:                  0.366\n",
      "Method:                 Least Squares   F-statistic:                     158.5\n",
      "Date:                Wed, 07 Jul 2021   Prob (F-statistic):           6.01e-29\n",
      "Time:                        13:48:31   Log-Likelihood:                 260.03\n",
      "No. Observations:                 274   AIC:                            -516.1\n",
      "Df Residuals:                     272   BIC:                            -508.8\n",
      "Df Model:                           1                                         \n",
      "Covariance Type:            nonrobust                                         \n",
      "===============================================================================\n",
      "                  coef    std err          t      P>|t|      [0.025      0.975]\n",
      "-------------------------------------------------------------------------------\n",
      "Intercept       2.0667      0.009    220.713      0.000       2.048       2.085\n",
      "lnjinshipop     0.1022      0.008     12.590      0.000       0.086       0.118\n",
      "==============================================================================\n",
      "Omnibus:                       57.374   Durbin-Watson:                   0.913\n",
      "Prob(Omnibus):                  0.000   Jarque-Bera (JB):              102.308\n",
      "Skew:                          -1.125   Prob(JB):                     6.08e-23\n",
      "Kurtosis:                       4.975   Cond. No.                         3.00\n",
      "==============================================================================\n",
      "\n",
      "Notes:\n",
      "[1] Standard Errors assume that the covariance matrix of the errors is correctly specified.\n"
     ]
    }
   ],
   "source": [
    "result = smf.ols('lneduyear ~ lnjinshipop', data = data).fit()\n",
    "print(result.summary())"
   ]
  },
  {
   "cell_type": "code",
   "execution_count": 49,
   "metadata": {},
   "outputs": [
    {
     "ename": "AttributeError",
     "evalue": "'DataFrame' object has no attribute 'provid'",
     "output_type": "error",
     "traceback": [
      "\u001b[0;31m---------------------------------------------------------------------------\u001b[0m",
      "\u001b[0;31mAttributeError\u001b[0m                            Traceback (most recent call last)",
      "\u001b[0;32m<ipython-input-49-e8c1ec0d522d>\u001b[0m in \u001b[0;36m<module>\u001b[0;34m\u001b[0m\n\u001b[0;32m----> 1\u001b[0;31m \u001b[0mprovid\u001b[0m \u001b[0;34m=\u001b[0m \u001b[0mpd\u001b[0m\u001b[0;34m.\u001b[0m\u001b[0mCategorical\u001b[0m\u001b[0;34m(\u001b[0m\u001b[0mdata\u001b[0m\u001b[0;34m.\u001b[0m\u001b[0mprovid\u001b[0m\u001b[0;34m)\u001b[0m\u001b[0;34m\u001b[0m\u001b[0;34m\u001b[0m\u001b[0m\n\u001b[0m\u001b[1;32m      2\u001b[0m \u001b[0mdata\u001b[0m \u001b[0;34m=\u001b[0m \u001b[0mdata\u001b[0m\u001b[0;34m.\u001b[0m\u001b[0mset_index\u001b[0m\u001b[0;34m(\u001b[0m\u001b[0;34m[\u001b[0m\u001b[0;34m'provid'\u001b[0m\u001b[0;34m,\u001b[0m\u001b[0;34m'year'\u001b[0m\u001b[0;34m]\u001b[0m\u001b[0;34m)\u001b[0m\u001b[0;34m\u001b[0m\u001b[0;34m\u001b[0m\u001b[0m\n\u001b[1;32m      3\u001b[0m \u001b[0mdata\u001b[0m\u001b[0;34m[\u001b[0m\u001b[0;34m'provid'\u001b[0m\u001b[0;34m]\u001b[0m \u001b[0;34m=\u001b[0m \u001b[0mprovid\u001b[0m\u001b[0;34m\u001b[0m\u001b[0;34m\u001b[0m\u001b[0m\n\u001b[1;32m      4\u001b[0m \u001b[0mexog_vars\u001b[0m \u001b[0;34m=\u001b[0m \u001b[0;34m[\u001b[0m\u001b[0;34m'lnjinshipop'\u001b[0m\u001b[0;34m]\u001b[0m\u001b[0;34m\u001b[0m\u001b[0;34m\u001b[0m\u001b[0m\n\u001b[1;32m      5\u001b[0m \u001b[0mexog\u001b[0m \u001b[0;34m=\u001b[0m \u001b[0msm\u001b[0m\u001b[0;34m.\u001b[0m\u001b[0madd_constant\u001b[0m\u001b[0;34m(\u001b[0m\u001b[0mdata\u001b[0m\u001b[0;34m[\u001b[0m\u001b[0mexog_vars\u001b[0m\u001b[0;34m]\u001b[0m\u001b[0;34m)\u001b[0m\u001b[0;34m\u001b[0m\u001b[0;34m\u001b[0m\u001b[0m\n",
      "\u001b[0;32m/Users/mxx/opt/anaconda3/lib/python3.7/site-packages/pandas/core/generic.py\u001b[0m in \u001b[0;36m__getattr__\u001b[0;34m(self, name)\u001b[0m\n\u001b[1;32m   5476\u001b[0m         ):\n\u001b[1;32m   5477\u001b[0m             \u001b[0;32mreturn\u001b[0m \u001b[0mself\u001b[0m\u001b[0;34m[\u001b[0m\u001b[0mname\u001b[0m\u001b[0;34m]\u001b[0m\u001b[0;34m\u001b[0m\u001b[0;34m\u001b[0m\u001b[0m\n\u001b[0;32m-> 5478\u001b[0;31m         \u001b[0;32mreturn\u001b[0m \u001b[0mobject\u001b[0m\u001b[0;34m.\u001b[0m\u001b[0m__getattribute__\u001b[0m\u001b[0;34m(\u001b[0m\u001b[0mself\u001b[0m\u001b[0;34m,\u001b[0m \u001b[0mname\u001b[0m\u001b[0;34m)\u001b[0m\u001b[0;34m\u001b[0m\u001b[0;34m\u001b[0m\u001b[0m\n\u001b[0m\u001b[1;32m   5479\u001b[0m \u001b[0;34m\u001b[0m\u001b[0m\n\u001b[1;32m   5480\u001b[0m     \u001b[0;32mdef\u001b[0m \u001b[0m__setattr__\u001b[0m\u001b[0;34m(\u001b[0m\u001b[0mself\u001b[0m\u001b[0;34m,\u001b[0m \u001b[0mname\u001b[0m\u001b[0;34m:\u001b[0m \u001b[0mstr\u001b[0m\u001b[0;34m,\u001b[0m \u001b[0mvalue\u001b[0m\u001b[0;34m)\u001b[0m \u001b[0;34m->\u001b[0m \u001b[0;32mNone\u001b[0m\u001b[0;34m:\u001b[0m\u001b[0;34m\u001b[0m\u001b[0;34m\u001b[0m\u001b[0m\n",
      "\u001b[0;31mAttributeError\u001b[0m: 'DataFrame' object has no attribute 'provid'"
     ]
    }
   ],
   "source": [
    "provid = pd.Categorical(data.provid)\n",
    "data = data.set_index(['provid','year'])\n",
    "data['provid'] = provid\n",
    "exog_vars = ['lnjinshipop']\n",
    "exog = sm.add_constant(data[exog_vars])\n",
    "mod = PanelOLS(data.lneduyear,exog,entity_effects=True)\n",
    "res = mod.fit()\n",
    "print(res)"
   ]
  },
  {
   "cell_type": "code",
   "execution_count": null,
   "metadata": {},
   "outputs": [],
   "source": [
    "result = smf.ols('lneduyear ~ lnjinshipop + lnnightlight + lncoastdist + tri + suitability + lnpopdensity + urbanrates', data = data).fit()\n",
    "print(result.summary())"
   ]
  },
  {
   "cell_type": "code",
   "execution_count": null,
   "metadata": {},
   "outputs": [],
   "source": [
    "provid = pd.Categorical(data.provid)\n",
    "data['provid'] = provid\n",
    "exog_vars = ['lnjinshipop','lnnightlight','lncoastdist','tri','suitability','lnpopdensity','urbanrates']\n",
    "exog = sm.add_constant(data[exog_vars])\n",
    "mod = PanelOLS(data.lneduyear,exog,entity_effects=True)\n",
    "res = mod.fit(cov_type = 'clustered',cluster_effects=True)\n",
    "print(res)"
   ]
  },
  {
   "cell_type": "markdown",
   "metadata": {},
   "source": [
    "### 4.3.2. TSLS"
   ]
  },
  {
   "cell_type": "code",
   "execution_count": null,
   "metadata": {},
   "outputs": [],
   "source": []
  },
  {
   "cell_type": "markdown",
   "metadata": {},
   "source": [
    "---\n",
    "# 5. Extention\n",
    "---"
   ]
  },
  {
   "cell_type": "code",
   "execution_count": null,
   "metadata": {},
   "outputs": [],
   "source": []
  },
  {
   "cell_type": "code",
   "execution_count": null,
   "metadata": {},
   "outputs": [],
   "source": []
  },
  {
   "cell_type": "markdown",
   "metadata": {},
   "source": [
    "---\n",
    "# 6. Conclusion\n",
    "---"
   ]
  },
  {
   "cell_type": "markdown",
   "metadata": {},
   "source": [
    "---\n",
    "# 7. Reference\n",
    "---"
   ]
  },
  {
   "cell_type": "markdown",
   "metadata": {},
   "source": [
    "* **Chen, T., Kung, J. K. S., & Ma, C. (2020)**. Long Live Keju! The Persistent Effects of China’s Civil Examination System. *The Economic Journal*, 130(631), 2030–2064.\n",
    "\n"
   ]
  },
  {
   "cell_type": "code",
   "execution_count": null,
   "metadata": {},
   "outputs": [],
   "source": []
  }
 ],
 "metadata": {
  "kernelspec": {
   "display_name": "Python 3",
   "language": "python",
   "name": "python3"
  },
  "language_info": {
   "codemirror_mode": {
    "name": "ipython",
    "version": 3
   },
   "file_extension": ".py",
   "mimetype": "text/x-python",
   "name": "python",
   "nbconvert_exporter": "python",
   "pygments_lexer": "ipython3",
   "version": "3.7.4"
  }
 },
 "nbformat": 4,
 "nbformat_minor": 4
}
