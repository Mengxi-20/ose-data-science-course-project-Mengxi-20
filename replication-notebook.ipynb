{
 "cells": [
  {
   "cell_type": "markdown",
   "metadata": {},
   "source": [
    "--- \n",
    "Project for the course in Microeconometrics | Summer 2021, M.Sc. Economics, Bonn University | [Mengxi Wang](https://github.com/Mengxi-20)\n",
    "\n",
    "# Replication of Chen, T., Kung, J. K. S., & Ma, C. (2020) <a class=\"tocSkip\">   \n",
    "---"
   ]
  },
  {
   "cell_type": "markdown",
   "metadata": {},
   "source": [
    "This notebook contains my replication of the results from the following paper:\n",
    "\n",
    "> Chen, T., Kung, J. K. S., & Ma, C. (2020). Long Live Keju! The Persistent Effects of China’s Civil Examination System. The Economic Journal, 130(631), 2030–2064. \n",
    "\n",
    "##### Downloading and viewing this notebook:\n",
    "\n",
    "\n",
    "* The best way to view this notebook is by downloading it and the repository it is located in from [GitHub](https://github.com/OpenSourceEconomics/ose-data-science-course-project-Mengxi-20). Other viewing options like _MyBinder_ or _NBViewer_ may have issues with displaying images or coloring of certain parts (missing images can be viewed in the folder [files](https://github.com/OpenSourceEconomics/ose-data-science-course-project-Mengxi-20) on GitHub).\n",
    "\n",
    "* The original paper, as well as the data and code provided by the authors can be accessed [here](https://academic.oup.com/ej/article/130/631/2030/5819954).\n",
    "\n",
    "\n",
    "##### Information about replication and individual contributions:\n",
    "\n",
    "* "
   ]
  },
  {
   "cell_type": "markdown",
   "metadata": {},
   "source": [
    "<h1>Table of Contents<span class=\"tocSkip\"></span></h1>"
   ]
  },
  {
   "cell_type": "markdown",
   "metadata": {},
   "source": [
    "<div class=\"toc\"><ul class=\"toc-item\"><li><span><a href=\"#1.-Introduction\" data-toc-modified-id=\"1.-Introduction-1\">1. Introduction</a></span></li><li><span><a href=\"#2.-Identification\" data-toc-modified-id=\"2.-Identification-2\">2. Identification</a></span></li><li><span><a href=\"#3.-Empirical-Setup\" data-toc-modified-id=\"3.-Empirical-Setup-3\">3. Empirical Setup</a></span></li><li><span><a href=\"#4.-Replication-of-Chen-et-al.-(2020)\" data-toc-modified-id=\"4.-Replication-of-Chen-et-al.-(2020)-4\">4. Replication of Chen et al. (2020)</a></span><ul class=\"toc-item\"><li><span><a href=\"#4.1.-Data-&amp;-Descriptive-Statistics\" data-toc-modified-id=\"4.1.-Data-&amp;-Descriptive-Statistics-4.1\">4.1. Data &amp; Descriptive Statistics</a></span></li><li><span><a href=\"#4.2.-Results\" data-toc-modified-id=\"4.2.-Results-4.2\">4.2. Results</a></span><ul class=\"toc-item\"><li><span><a href=\"#4.2.1.-Tests-of-the-Validity-of-the-RD-Approach\" data-toc-modified-id=\"4.2.1.-Tests-of-the-Validity-of-the-RD-Approach-4.2.1\">4.2.1. Tests of the Validity of the RD Approach</a></span></li><li><span><a href=\"#i.--Extension:-Visual-Validity-Check\" data-toc-modified-id=\"i.--Extension:-Visual-Validity-Check-4.2.2\">i.  Extension: Visual Validity Check</a></span></li><li><span><a href=\"#ii.-Advanced-Validity-Check\" data-toc-modified-id=\"ii.-Advanced-Validity-Check-4.2.3\">ii. Advanced Validity Check</a></span></li><li><span><a href=\"#4.2.2.-First-Year-GPAs-and-Academic-Probation\" data-toc-modified-id=\"4.2.2.-First-Year-GPAs-and-Academic-Probation-4.2.4\">4.2.2. First Year GPAs and Academic Probation</a></span></li><li><span><a href=\"#4.2.3.-The-Immediate-Response-to-Academic-Probation\" data-toc-modified-id=\"4.2.3.-The-Immediate-Response-to-Academic-Probation-5.2.5\">4.2.3. The Immediate Response to Academic Probation</a></span></li><li><span><a href=\"#4.2.4.-The-Impact-onSubsequent-Performance\" data-toc-modified-id=\"4.2.4.-The-Impact-onSubsequent-Performance-4.2.6\">4.2.4. The Impact onSubsequent Performance</a></span></li><li><span><a href=\"#i.-Main-Results-for-Impact-on-GPA-&amp;-Probability-of-Placing-Above-Cutoff-in-the-Next-Term\" data-toc-modified-id=\"i.-Main-Results-for-Impact-on-GPA-&amp;-Probability-of-Placing-Above-Cutoff-in-the-Next-Term-4.2.7\">i. Main Results for Impact on GPA &amp; Probability of Placing Above Cutoff in the Next Term</a></span></li><li><span><a href=\"#ii.-Formal-Bound-Analysis-on-Subsequent-GPA-(partial-extension)\" data-toc-modified-id=\"ii.-Formal-Bound-Analysis-on-Subsequent-GPA-(partial-extension)-4.2.8\">ii. Formal Bound Analysis on Subsequent GPA (partial extension)</a></span></li><li><span><a href=\"#4.2.5.-The-Impacts-on-Graduation\" data-toc-modified-id=\"4.2.5.-The-Impacts-on-Graduation-4.2.9\">4.2.5. The Impacts on Graduation</a></span></li></ul></li></ul></li><li><span><a href=\"#6.-Extension:-Robustness-Checks\" data-toc-modified-id=\"5.-Extension:-Robustness-Checks-5\">5. Extension: Robustness Checks</a></span><ul class=\"toc-item\"><li><span><a href=\"#5.1.--A-Closer-Look-at-Students'-Subsequent-Performance.\" data-toc-modified-id=\"5.1.--A-Closer-Look-at-Students'-Subsequent-Performance.-5.1\">5.1.  A Closer Look at Students' Subsequent Performance.</a></span><ul class=\"toc-item\"><li><span><a href=\"#5.1.1.-Subsequent-Performance-and-Total-Credits-in-Year-2\" data-toc-modified-id=\"5.1.1.-Subsequent-Performance-and-Total-Credits-in-Year-2-5.1.1\">5.1.1. Subsequent Performance and Total Credits in Year 2</a></span></li><li><span><a href=\"#5.1.2.-Subsequent-Cumulative-Grade-Point-Average-(CGPA)\" data-toc-modified-id=\"5.1.2.-Subsequent-Cumulative-Grade-Point-Average-(CGPA)-5.1.2\">5.1.2. Subsequent Cumulative Grade Point Average (CGPA)</a></span></li></ul></li><li><span><a href=\"#5.2.-Bandwidth-Sensitivity\" data-toc-modified-id=\"5.2.-Bandwidth-Sensitivity-5.2\">5.2. Bandwidth Sensitivity</a></span></li></ul></li><li><span><a href=\"#6.-Conclusion\" data-toc-modified-id=\"6.-Conclusion-6\">6. Conclusion</a></span></li><li><span><a href=\"#7.-References\" data-toc-modified-id=\"7.-References-7\">7. References</a></span></li></ul></div>"
   ]
  },
  {
   "cell_type": "code",
   "execution_count": 1,
   "metadata": {},
   "outputs": [],
   "source": [
    "%matplotlib inline\n",
    "# pip install linearmodels==4.24\n",
    "# pip install graphviz"
   ]
  },
  {
   "cell_type": "code",
   "execution_count": 5,
   "metadata": {},
   "outputs": [],
   "source": [
    "import numpy as np\n",
    "import pandas as pd\n",
    "import pandas.io.formats.style\n",
    "import seaborn as sns\n",
    "import statsmodels.api as sm\n",
    "import matplotlib.pyplot as plt\n",
    "import statsmodels.formula.api as smf\n",
    "import statsmodels.api as sm_api\n",
    "\n",
    "from linearmodels.iv import IV2SLS\n",
    "from linearmodels import IV2SLS, IVLIML, IVGMM, IVGMMCUE\n",
    "from IPython.display import HTML, Image"
   ]
  },
  {
   "cell_type": "code",
   "execution_count": null,
   "metadata": {},
   "outputs": [],
   "source": []
  },
  {
   "cell_type": "code",
   "execution_count": null,
   "metadata": {},
   "outputs": [],
   "source": []
  }
 ],
 "metadata": {
  "kernelspec": {
   "display_name": "Python 3",
   "language": "python",
   "name": "python3"
  },
  "language_info": {
   "codemirror_mode": {
    "name": "ipython",
    "version": 3
   },
   "file_extension": ".py",
   "mimetype": "text/x-python",
   "name": "python",
   "nbconvert_exporter": "python",
   "pygments_lexer": "ipython3",
   "version": "3.8.5"
  }
 },
 "nbformat": 4,
 "nbformat_minor": 4
}
